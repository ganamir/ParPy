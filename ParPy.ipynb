{
  "nbformat": 4,
  "nbformat_minor": 0,
  "metadata": {
    "colab": {
      "provenance": [],
      "authorship_tag": "ABX9TyPWQZBovSiPEdBVMKfS3YY1",
      "include_colab_link": true
    },
    "kernelspec": {
      "name": "python3",
      "display_name": "Python 3"
    },
    "language_info": {
      "name": "python"
    }
  },
  "cells": [
    {
      "cell_type": "markdown",
      "metadata": {
        "id": "view-in-github",
        "colab_type": "text"
      },
      "source": [
        "<a href=\"https://colab.research.google.com/github/ganamir/ParPy/blob/main/ParPy.ipynb\" target=\"_parent\"><img src=\"https://colab.research.google.com/assets/colab-badge.svg\" alt=\"Open In Colab\"/></a>"
      ]
    },
    {
      "cell_type": "code",
      "execution_count": 2,
      "metadata": {
        "id": "CE_wZJC5wQcT"
      },
      "outputs": [],
      "source": [
        "import math\n",
        "import numpy as np\n",
        "from itertools import combinations\n",
        "import pandas as pd\n",
        "\n",
        "df = pd.read_csv(\"/content/WeightedUnifrac_PCA_Structure.csv\")\n",
        "pca = pd.read_csv(\"/content/WeightedUnifrac_Explained_Variance.csv\")\n",
        "\n",
        "def calculate_pairwise_combinations(row):\n",
        "    columns = [col for col in row.index if col.startswith('PC')]\n",
        "    pairs = list(combinations(columns, 2))\n",
        "    combinations_values = [(row[pair[0]], row[pair[1]]) for pair in pairs]\n",
        "    return combinations_values\n",
        "\n",
        "pairwise_combination = df.apply(calculate_pairwise_combinations, axis=1)\n",
        "\n",
        "pairwise_df = pd.DataFrame(pairwise_combination, index = df.index)\n",
        "pairwise_df['Clone'] = df['Clone']\n",
        "pairwise_df['Treatment'] = df['Treatment']\n",
        "\n",
        "# Group by 'Clone' column\n",
        "grouped_df = pairwise_df.groupby('Clone').apply(lambda x: x.drop(['Clone', 'Treatment'], axis=1).stack()).reset_index(level=1, drop=True).reset_index()\n",
        "\n",
        "# Rename the columns\n",
        "grouped_df.columns = ['Clone', 'Pair', 'Value']\n",
        "\n",
        "\n",
        "\n",
        "dot_rule = []\n",
        "mag1 = []\n",
        "mag2 = []\n",
        "dg = []\n",
        "for i in range(0, len(grouped_df['Value']), 2):\n",
        "  if i + 1 < len(grouped_df['Value']):\n",
        "    m_values = []\n",
        "    for n in range (0, len(grouped_df['Value'][0])):\n",
        "      dot = np.dot(grouped_df['Value'][i][n], grouped_df['Value'][i+1][n])\n",
        "      mg1 = np.linalg.norm(grouped_df['Value'][i][n])\n",
        "      mg2 = np.linalg.norm(grouped_df['Value'][i+1][n])\n",
        "      mg_total = mg1 * mg2\n",
        "      cosine = (dot / mg_total)\n",
        "      angle = math.acos(cosine)\n",
        "      degree = math.degrees(angle)\n",
        "      m_values.append(angle)\n",
        "    # dot_rule.append(dot)\n",
        "    # mag1.append(mg1)\n",
        "    # mag2.append(mg2)\n",
        "    dg.append(m_values)\n",
        "\n",
        "df = pd.DataFrame()\n",
        "df['angle-rad'] = dg\n",
        "\n",
        "pairwise_pca = pd.DataFrame()\n",
        "pca_pairwise_combination = pca.apply(calculate_pairwise_combinations, axis = 1)\n",
        "pairwise_pca['Weights'] = pca_pairwise_combination\n",
        "\n",
        "def multiply_tuples(tuples_list):\n",
        "    multiplied_tuples = [(x * y) for x, y in tuples_list]\n",
        "    return multiplied_tuples\n",
        "\n",
        "pairwise_pca['Multiplied'] = pairwise_pca['Weights'].apply(multiply_tuples)\n",
        "\n",
        "\n",
        "sum_sines_list = []\n",
        "sum_cos_list = []\n",
        "for i in range(0, len(df['angle-rad'])):\n",
        "  sum_sines = []\n",
        "  sum_cos = []\n",
        "  for n in range(0, len(df['angle-rad'][i])):\n",
        "    weighted_sum_sines = pairwise_pca['Multiplied'][0][n] * math.sin(df['angle-rad'][i][n])\n",
        "    weighted_cos_sines = pairwise_pca['Multiplied'][0][n] * math.cos(df['angle-rad'][i][n])\n",
        "    sum_sines.append(weighted_sum_sines)\n",
        "    sum_cos.append(weighted_cos_sines)\n",
        "  sum_sines_list.append(sum_sines)\n",
        "  sum_cos_list.append(sum_cos)\n",
        "\n",
        "df_rad_sum = pd.DataFrame({'sin': sum_sines_list})\n",
        "df_rad_sum['cos'] = sum_cos_list\n",
        "\n",
        "def calculate_sum(lst):\n",
        "  return sum(lst)\n",
        "\n",
        "summed_df = df_rad_sum.applymap(calculate_sum)\n",
        "summed_df['weighted_avg_angle'] = summed_df.apply(lambda row: math.atan2(row['sin'], row['cos']), axis=1)\n",
        "summed_df['weighted_avg_angle_deg'] = summed_df['weighted_avg_angle'].apply(math.degrees)\n",
        "summed_df['weighted_avg_angle_deg'] %= 360\n",
        "summed_df['Clone'] = grouped_df.groupby('Clone')['Clone'].first().reset_index(drop=True)\n",
        "\n",
        "summed_df.to_csv(\"DegreeOfParallelism.csv\", index = False)"
      ]
    }
  ]
}